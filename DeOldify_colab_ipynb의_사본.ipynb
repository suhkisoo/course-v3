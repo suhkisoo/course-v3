{
  "nbformat": 4,
  "nbformat_minor": 0,
  "metadata": {
    "accelerator": "GPU",
    "colab": {
      "name": "DeOldify_colab.ipynb의 사본",
      "provenance": [],
      "collapsed_sections": [],
      "include_colab_link": true
    },
    "kernelspec": {
      "display_name": "Python 3",
      "language": "python",
      "name": "python3"
    },
    "language_info": {
      "codemirror_mode": {
        "name": "ipython",
        "version": 3
      },
      "file_extension": ".py",
      "mimetype": "text/x-python",
      "name": "python",
      "nbconvert_exporter": "python",
      "pygments_lexer": "ipython3",
      "version": "3.6.5"
    }
  },
  "cells": [
    {
      "cell_type": "markdown",
      "metadata": {
        "id": "view-in-github",
        "colab_type": "text"
      },
      "source": [
        "<a href=\"https://colab.research.google.com/github/suhkisoo/course-v3/blob/master/DeOldify_colab_ipynb%EC%9D%98_%EC%82%AC%EB%B3%B8.ipynb\" target=\"_parent\"><img src=\"https://colab.research.google.com/assets/colab-badge.svg\" alt=\"Open In Colab\"/></a>"
      ]
    },
    {
      "cell_type": "markdown",
      "metadata": {
        "id": "V-nHLm4jWpnV"
      },
      "source": [
        "# DeOldify on Colab #\n",
        "\n",
        "This notebook shows how to get your own version of [DeOldify](https://github.com/jantic/DeOldify) working on Google Colab. A lot of the initial steps are just installs -- but these are also the steps that can make running the model a tedious exercise.\n",
        "\n",
        "Initially, one must `pip install` a few dependencies, then `wget` is used to download the appropriate picture data.\n",
        "\n",
        "NECESSARY PRELIMINARY STEP: Please make sure you have gone up to the \"Runtime\" menu above and \"Change Runtime Type\" to Python3 and GPU.\n",
        "\n",
        "I hope you have fun, and thanks to Jason Antic for this awesome tool!\n",
        "\n",
        "-Matt Robinson, <matthew67robinson@gmail.com>\n",
        "\n",
        "NEW: You can now load your files from you own Google Drive, check the last cell of the notebook for more information."
      ]
    },
    {
      "cell_type": "code",
      "metadata": {
        "id": "-dSDNbBNb-N8"
      },
      "source": [
        "!git clone https://github.com/jantic/DeOldify.git DeOldify"
      ],
      "execution_count": null,
      "outputs": []
    },
    {
      "cell_type": "code",
      "metadata": {
        "id": "awyfade5uVo1"
      },
      "source": [
        "from os import path\n",
        "from wheel.pep425tags import get_abbr_impl, get_impl_ver, get_abi_tag\n",
        "platform = '{}{}-{}'.format(get_abbr_impl(), get_impl_ver(), get_abi_tag())\n",
        "\n",
        "accelerator = 'cu80' if path.exists('/opt/bin/nvidia-smi') else 'cpu'\n",
        "\n",
        "!pip install -q http://download.pytorch.org/whl/{accelerator}/torch-0.4.1-{platform}-linux_x86_64.whl torchvision\n",
        "import torch\n",
        "print(torch.__version__)\n",
        "print(torch.cuda.is_available())"
      ],
      "execution_count": null,
      "outputs": []
    },
    {
      "cell_type": "code",
      "metadata": {
        "id": "k19F34Tsd7CX"
      },
      "source": [
        "cd DeOldify"
      ],
      "execution_count": null,
      "outputs": []
    },
    {
      "cell_type": "code",
      "metadata": {
        "id": "BMRO_XT6e_ge"
      },
      "source": [
        "!pip install -e ."
      ],
      "execution_count": null,
      "outputs": []
    },
    {
      "cell_type": "code",
      "metadata": {
        "id": "YllLOZKjgbf4"
      },
      "source": [
        "%matplotlib inline\n",
        "%reload_ext autoreload\n",
        "%autoreload 2"
      ],
      "execution_count": null,
      "outputs": []
    },
    {
      "cell_type": "code",
      "metadata": {
        "id": "lhejMeOxghBM"
      },
      "source": [
        "# Doing work so I can access data from my google drive\n",
        "!pip install PyDrive"
      ],
      "execution_count": null,
      "outputs": []
    },
    {
      "cell_type": "code",
      "metadata": {
        "id": "Qrp82k31uVo1"
      },
      "source": [
        "# Work around with Pillow being preinstalled on these Colab VMs, causing conflicts otherwise.\n",
        "!pip install Pillow==4.1.1"
      ],
      "execution_count": null,
      "outputs": []
    },
    {
      "cell_type": "code",
      "metadata": {
        "id": "yODBFi8MgoLZ"
      },
      "source": [
        "import os\n",
        "from pydrive.auth import GoogleAuth\n",
        "from pydrive.drive import GoogleDrive\n",
        "from google.colab import auth\n",
        "from oauth2client.client import GoogleCredentials\n",
        "import multiprocessing\n",
        "from torch import autograd\n",
        "from fastai.transforms import TfmType\n",
        "from fasterai.transforms import *\n",
        "from fastai.conv_learner import *\n",
        "from fasterai.images import *\n",
        "from fasterai.dataset import *\n",
        "from fasterai.visualize import *\n",
        "from fasterai.callbacks import *\n",
        "from fasterai.loss import *\n",
        "from fasterai.modules import *\n",
        "from fasterai.training import *\n",
        "from fasterai.generators import *\n",
        "from fastai.torch_imports import *\n",
        "from fasterai.filters import *\n",
        "from pathlib import Path\n",
        "from itertools import repeat\n",
        "from google.colab import drive\n",
        "from IPython.display import Image\n",
        "import tensorboardX\n",
        "torch.cuda.set_device(0)\n",
        "plt.style.use('dark_background')\n",
        "torch.backends.cudnn.benchmark=True"
      ],
      "execution_count": null,
      "outputs": []
    },
    {
      "cell_type": "code",
      "metadata": {
        "id": "Ow9Qhf4jgrgd"
      },
      "source": [
        "auth.authenticate_user()\n",
        "gauth = GoogleAuth()\n",
        "gauth.credentials = GoogleCredentials.get_application_default()\n",
        "drive = GoogleDrive(gauth)"
      ],
      "execution_count": null,
      "outputs": []
    },
    {
      "cell_type": "markdown",
      "metadata": {
        "id": "aVyIYMqrg-SM"
      },
      "source": [
        "Note that the above requires a verification step. It isn't too bad."
      ]
    },
    {
      "cell_type": "code",
      "metadata": {
        "id": "ny3egicahAB4"
      },
      "source": [
        "# Now download the pretrained weights, which I have saved to my google drive\n",
        "# note that the id is the ending part of the shareable link url (after open?id=)\n",
        "# The pretrained weights can be downloaded from https://www.dropbox.com/s/7r2wu0af6okv280/colorize_gen_192.h5\n",
        "download = drive.CreateFile({'id': '1mRRvS3WIHPdp36G0yc1jC0XI6i-Narv6'})\n",
        "download.GetContentFile('pretrained_weights.h5')"
      ],
      "execution_count": null,
      "outputs": []
    },
    {
      "cell_type": "markdown",
      "metadata": {
        "id": "Doru7d3rVYr7"
      },
      "source": [
        "With access to your Google Drive, the \"deOldifyImages\" directory will be created. Drop there your personal images, and after the full execution of the notebook find the results at its subdirectory \"results\""
      ]
    },
    {
      "cell_type": "code",
      "metadata": {
        "id": "NlOT9IlBHkk7"
      },
      "source": [
        "from google.colab import drive\n",
        "drive.mount('/content/drive')\n",
        "!mkdir \"/content/drive/My Drive/deOldifyImages\"\n",
        "!mkdir \"/content/drive/My Drive/deOldifyImages/results\""
      ],
      "execution_count": null,
      "outputs": []
    },
    {
      "cell_type": "code",
      "metadata": {
        "id": "sU2yQAfqhNJv"
      },
      "source": [
        "weights_path = 'pretrained_weights.h5'\n",
        "results_dir='/content/drive/My Drive/deOldifyImages/results'\n",
        "\n",
        "#The higher the render_factor, the more GPU memory will be used and generally images will look better.  \n",
        "#11GB can take a factor of 42 max.  Performance generally gracefully degrades with lower factors, \n",
        "#though you may also find that certain images will actually render better at lower numbers.  \n",
        "#This tends to be the case with the oldest photos.\n",
        "render_factor=42\n",
        "filters = [Colorizer34(gpu=0, weights_path=weights_path)]\n",
        "vis = ModelImageVisualizer(filters, render_factor=render_factor, results_dir=results_dir)"
      ],
      "execution_count": null,
      "outputs": []
    },
    {
      "cell_type": "code",
      "metadata": {
        "id": "-86zKacjhnDE"
      },
      "source": [
        "# download an example picture to try.\n",
        "# NOTE: All the jpg files cloned from the git repo are corrupted. Must download yourself.\n",
        "!wget \"https://media.githubusercontent.com/media/jantic/DeOldify/master/test_images/abe.jpg\" -O \"abe2.jpg\""
      ],
      "execution_count": null,
      "outputs": []
    },
    {
      "cell_type": "code",
      "metadata": {
        "id": "vz0BmRcGh1Gd"
      },
      "source": [
        "# %matplotlib inline\n",
        "vis.plot_transformed_image('abe2.jpg', render_factor=25)"
      ],
      "execution_count": null,
      "outputs": []
    },
    {
      "cell_type": "code",
      "metadata": {
        "id": "8-hQC-AfiCKq"
      },
      "source": [
        "!wget \"https://media.githubusercontent.com/media/jantic/DeOldify/master/test_images/TV1930s.jpg\" -O \"family_TV.jpg\""
      ],
      "execution_count": null,
      "outputs": []
    },
    {
      "cell_type": "code",
      "metadata": {
        "id": "O6kfUN0GiJsq"
      },
      "source": [
        "vis.plot_transformed_image('family_TV.jpg', render_factor=41)"
      ],
      "execution_count": null,
      "outputs": []
    },
    {
      "cell_type": "markdown",
      "metadata": {
        "id": "ZpCf0qbxicVK"
      },
      "source": [
        "Let's see how well it does Dorothy before her world turns to color in the Wizard of Oz:"
      ]
    },
    {
      "cell_type": "code",
      "metadata": {
        "id": "xBhxm79riXLc"
      },
      "source": [
        "!wget \"https://magnoliaforever.files.wordpress.com/2011/09/wizard-of-oz.jpg\" -O \"Dorothy.jpg\""
      ],
      "execution_count": null,
      "outputs": []
    },
    {
      "cell_type": "code",
      "metadata": {
        "id": "yTgTXqx_iil3"
      },
      "source": [
        "vis.plot_transformed_image('Dorothy.jpg', render_factor=30)"
      ],
      "execution_count": null,
      "outputs": []
    },
    {
      "cell_type": "markdown",
      "metadata": {
        "id": "GXM77gcunp7M"
      },
      "source": [
        "Let's now try Butch and Sundance. Famously the last scene ends with a black and white still. So we know what the color was beforehand."
      ]
    },
    {
      "cell_type": "code",
      "metadata": {
        "id": "fpoVn8O1nlE1"
      },
      "source": [
        "!wget \"https://i.ebayimg.com/images/g/HqkAAOSwRLZUAwyS/s-l300.jpg\" -O \"butch_and_sundance.jpg\""
      ],
      "execution_count": null,
      "outputs": []
    },
    {
      "cell_type": "code",
      "metadata": {
        "id": "c_dsWcBjnu_p"
      },
      "source": [
        "vis.plot_transformed_image('butch_and_sundance.jpg', render_factor=29)"
      ],
      "execution_count": null,
      "outputs": []
    },
    {
      "cell_type": "markdown",
      "metadata": {
        "id": "Ra5fs0UWn46V"
      },
      "source": [
        "Let's get a picture of what they were actually wearing:"
      ]
    },
    {
      "cell_type": "code",
      "metadata": {
        "id": "a8zoOYJanxkk"
      },
      "source": [
        "!wget \"https://bethanytompkins.files.wordpress.com/2015/09/freezeframe.jpg\" -O \"butch_and_sundance_color.jpg\""
      ],
      "execution_count": null,
      "outputs": []
    },
    {
      "cell_type": "code",
      "metadata": {
        "id": "nEULX0Uan-pi"
      },
      "source": [
        "Image('butch_and_sundance_color.jpg')"
      ],
      "execution_count": null,
      "outputs": []
    },
    {
      "cell_type": "markdown",
      "metadata": {
        "id": "dBY1N_bYaIxq"
      },
      "source": [
        "If you want to colorise pictures from your drive, drop them in a directory named deOldifyImages (in the root of your drive) and the next cell will save the colorise pictures in deOldifyImages/results."
      ]
    },
    {
      "cell_type": "code",
      "metadata": {
        "id": "vL7775DWaFJ4"
      },
      "source": [
        "for img in os.listdir(\"/content/drive/My Drive/deOldifyImages/\"):\n",
        "  img_path = str(\"/content/drive/My Drive/deOldifyImages/\") + img\n",
        "  if os.path.isfile(img_path):\n",
        "    vis.plot_transformed_image(img_path)"
      ],
      "execution_count": null,
      "outputs": []
    }
  ]
}